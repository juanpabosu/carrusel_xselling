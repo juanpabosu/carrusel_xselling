{
 "cells": [
  {
   "cell_type": "markdown",
   "id": "49c47362",
   "metadata": {},
   "source": [
    "Analisis Exploratorio de las fuentes  \n",
    "\n",
    "El objetivo de esta fase es realizar un analisis descriptivo de las fuentes de datos a procesar con el fin de identificar su estructura, los tipos de datos utilizados y algunos estadísticos de distribución sobre los mismos."
   ]
  }
 ],
 "metadata": {
  "kernelspec": {
   "display_name": "Python 3",
   "language": "python",
   "name": "python3"
  },
  "language_info": {
   "codemirror_mode": {
    "name": "ipython",
    "version": 3
   },
   "file_extension": ".py",
   "mimetype": "text/x-python",
   "name": "python",
   "nbconvert_exporter": "python",
   "pygments_lexer": "ipython3",
   "version": "3.11.9"
  }
 },
 "nbformat": 4,
 "nbformat_minor": 5
}
